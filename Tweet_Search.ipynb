{
  "nbformat": 4,
  "nbformat_minor": 0,
  "metadata": {
    "colab": {
      "provenance": [],
      "authorship_tag": "ABX9TyNbGDH1p/RqR91stvUpF4y0",
      "include_colab_link": true
    },
    "kernelspec": {
      "name": "python3",
      "display_name": "Python 3"
    },
    "language_info": {
      "name": "python"
    }
  },
  "cells": [
    {
      "cell_type": "markdown",
      "metadata": {
        "id": "view-in-github",
        "colab_type": "text"
      },
      "source": [
        "<a href=\"https://colab.research.google.com/github/vinayparjapati5/Tweets-Search/blob/main/Tweet_Search.ipynb\" target=\"_parent\"><img src=\"https://colab.research.google.com/assets/colab-badge.svg\" alt=\"Open In Colab\"/></a>"
      ]
    },
    {
      "cell_type": "markdown",
      "source": [
        "---\n",
        "## **Mini Project : Tweets Search**\n",
        "---"
      ],
      "metadata": {
        "id": "TGM9L5dN6grb"
      }
    },
    {
      "cell_type": "markdown",
      "source": [
        "---\n",
        "### 1. Installing Library\n",
        "---"
      ],
      "metadata": {
        "id": "3_LTcoMG6ppS"
      }
    },
    {
      "cell_type": "code",
      "execution_count": 1,
      "metadata": {
        "colab": {
          "base_uri": "https://localhost:8080/"
        },
        "id": "j4Lx1ABm6NNN",
        "outputId": "4b8bd53b-6986-48cc-e062-f96bcbaa74af"
      },
      "outputs": [
        {
          "output_type": "stream",
          "name": "stdout",
          "text": [
            "Tweepy installed successfully...\n"
          ]
        }
      ],
      "source": [
        "!pip install tweepy &> /dev/null\n",
        "print(\"Tweepy installed successfully...\")"
      ]
    },
    {
      "cell_type": "code",
      "source": [
        "access_token = \"501682241-ZG1DshytyxUIUY8FXPoH2AXaDG9d5DQlORemfAzU\"\n",
        "access_token_secret = \"mxwCYkDjgWG5qWy8ONtVs3j2lxiYSxyberVVa92jmd27z\"\n",
        "consumer_key = \"we0Drpnvc1FZNazKkiKoFWlGf\"\n",
        "consumer_secret = \"OXRvmJwM6ca9k90XMIMoktSCa5XvjNieqJivcfjbOAlmpO6RhH\""
      ],
      "metadata": {
        "id": "5VEudG3O7fa2"
      },
      "execution_count": 2,
      "outputs": []
    },
    {
      "cell_type": "markdown",
      "source": [
        "---\n",
        "### 2. Importing Libraries\n",
        "---"
      ],
      "metadata": {
        "id": "mDvssuW87Zq5"
      }
    },
    {
      "cell_type": "code",
      "source": [
        "import os\n",
        "import tweepy as tw\n",
        "import pandas as pd\n",
        "from datetime import datetime, timedelta\n"
      ],
      "metadata": {
        "id": "J0-qexu47oXP"
      },
      "execution_count": 3,
      "outputs": []
    },
    {
      "cell_type": "code",
      "source": [
        "auth = tw.OAuthHandler(consumer_key, consumer_secret)\n",
        "auth.set_access_token(access_token, access_token_secret)\n",
        "api = tw.API(auth, wait_on_rate_limit=True)"
      ],
      "metadata": {
        "id": "YKBvD42F70wl"
      },
      "execution_count": 4,
      "outputs": []
    },
    {
      "cell_type": "markdown",
      "source": [
        "---\n",
        "### 3. Define the search term and the date_since date as variables\n",
        "---"
      ],
      "metadata": {
        "id": "9IgYP1997wAB"
      }
    },
    {
      "cell_type": "code",
      "source": [
        "search_words = \"#yogiadityanath\"\n",
        "date_since = datetime.strptime(\"2022-06-05\", \"%Y-%m-%d\")\n",
        ""
      ],
      "metadata": {
        "id": "yRqlVO0Y8F1d"
      },
      "execution_count": 5,
      "outputs": []
    },
    {
      "cell_type": "markdown",
      "source": [
        "---\n",
        "### 4. Collect tweets\n",
        "---"
      ],
      "metadata": {
        "id": "aUzzGPSY8REW"
      }
    },
    {
      "cell_type": "code",
      "source": [
        "tweets = tw.Cursor(api.search_tweets, q=search_words, lang=\"en\").items(10)\n",
        "fp = open(\"result.txt\",'w');\n",
        "# Iterate and print tweets\n",
        "for tweet in tweets:\n",
        "    print(tweet.text)\n",
        "    fp.write(tweet.text+'\\n');\n",
        "fp.close();"
      ],
      "metadata": {
        "colab": {
          "base_uri": "https://localhost:8080/"
        },
        "id": "M8WcV4CQ8Zy8",
        "outputId": "1a69e58b-76a9-4ab5-a025-c7b48d888ddd"
      },
      "execution_count": 6,
      "outputs": [
        {
          "output_type": "stream",
          "name": "stdout",
          "text": [
            "RT @BeHealthyPlus: MICRO ONLINE / OFFLINE CLINIC \n",
            "#digitalhealthcare #digitalhealth #healthcare #health #telemedicine #telehealth #healthte…\n",
            "RT @bitmasti: @Shubham_fd Too many false #SCST cases in #UttarPradesh \n",
            "\n",
            "#YogiAdityaNath @Uppolice @dgpup @myogiadityanath @shalabhmani @kpm…\n",
            "RT @UpendrraRai: CM Yogi Adityanath said projects worth ₹32,000 crore are currently underway in Ayodhya to transform temple city into one o…\n",
            "Shame on you...\n",
            " @PrabhasRaju @kritisanon @TSeries @manojmuntashir @omraut \n",
            "\n",
            "Please ban Adipurush and Bollywood!!… https://t.co/JRYzTp9XeZ\n",
            "DALIT ... THE NEW VISHESH SAMUDAY\n",
            "\n",
            "rampant misuse of #SCST act by Dalit criminals\n",
            "\n",
            "#YogiAdityanath… https://t.co/2aIq8dzI9Y\n",
            "Just waiting to see #YogiAdityanath and #Modiji  promote #Adipurush\n",
            "RT @firstpost: #LordRam was 'kept in a tent' under previous govt, says Uttar Pradesh CM #YogiAdityanath \n",
            "#Ayodhya \n",
            "https://t.co/SgaZwzGSi5\n",
            "RT @itsDivasChoice: My mother met Yogi ji and she gifted her artwork to him as requeated. My mother works to preserve Uttrakhand (Kumaun) a…\n",
            "RT @firstpost: #LordRam was 'kept in a tent' under previous govt, says Uttar Pradesh CM #YogiAdityanath \n",
            "#Ayodhya \n",
            "https://t.co/SgaZwzGSi5\n",
            "RT @firstpost: #LordRam was 'kept in a tent' under previous govt, says Uttar Pradesh CM #YogiAdityanath \n",
            "#Ayodhya \n",
            "https://t.co/SgaZwzGSi5\n"
          ]
        }
      ]
    }
  ]
}